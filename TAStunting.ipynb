{
  "cells": [
    {
      "cell_type": "markdown",
      "metadata": {
        "id": "TYZ2FzdjldIb"
      },
      "source": [
        "# INDENTIFIKASI STUNTING"
      ]
    },
    {
      "cell_type": "markdown",
      "metadata": {
        "id": "4paRHxRzlcwz"
      },
      "source": [
        "## IMPORT LIBRARY DAN DATASET"
      ]
    },
    {
      "cell_type": "code",
      "execution_count": 584,
      "metadata": {
        "colab": {
          "base_uri": "https://localhost:8080/"
        },
        "collapsed": true,
        "id": "iiSpiDYd0s-e",
        "outputId": "138b1941-6928-455a-ebca-8c33e10ac56f"
      },
      "outputs": [
        {
          "name": "stdout",
          "output_type": "stream",
          "text": [
            "      Usia Berat  Tinggi                 BBU  ZS BB/U  ZS TB/U  \\\n",
            "0       56    15   105.0  Berat Badan Normal    -1.30    -0.70   \n",
            "1       48  12.5   102.5  Berat Badan Normal    -1.89    -0.06   \n",
            "2       54    18   103.0  Berat Badan Normal     0.28    -0.79   \n",
            "3       54  22.7   110.0        Risiko Lebih     1.93     0.63   \n",
            "4       38  14.7    96.0  Berat Badan Normal    -0.06    -0.49   \n",
            "...    ...   ...     ...                 ...      ...      ...   \n",
            "2135    34  11.6    92.0         Gizi Kurang    -2.20    -2.10   \n",
            "2136    36  12.9    93.0  Berat Badan Normal    -0.80    -0.01   \n",
            "2137    35  10.5    90.0        Risiko Lebih    -1.20    -0.01   \n",
            "2138    45  12.4    92.0           Gizi Baik    -0.60    -0.01   \n",
            "2139    40  11.7    91.0       Sangat Kurang    -2.50    -2.30   \n",
            "\n",
            "                   BBTB  ZS BB/TB  Gender           TB/U  \n",
            "0             Gizi Baik     -1.39       0         Normal  \n",
            "1           Gizi Kurang     -2.80       0         Normal  \n",
            "2     Risiko Gizi Lebih      1.17       1         Normal  \n",
            "3            Gizi Lebih      2.23       1         Normal  \n",
            "4             Gizi Baik      0.34       0         Normal  \n",
            "...                 ...       ...     ...            ...  \n",
            "2135        Gizi Kurang     -1.90       1         Pendek  \n",
            "2136          Gizi Baik     -0.80       0         Normal  \n",
            "2137          Gizi Baik     -0.75       1         Normal  \n",
            "2138          Gizi Baik     -0.70       0         Normal  \n",
            "2139        Gizi Kurang     -2.10       1  Sangat Pendek  \n",
            "\n",
            "[2140 rows x 10 columns]\n"
          ]
        }
      ],
      "source": [
        "import numpy as np\n",
        "import pandas as pd\n",
        "import matplotlib.pyplot as plt\n",
        "import seaborn as sns\n",
        "from sklearn.preprocessing import StandardScaler\n",
        "from sklearn.naive_bayes import GaussianNB\n",
        "from sklearn.model_selection import train_test_split\n",
        "from sklearn.metrics import accuracy_score\n",
        "from sklearn.metrics import classification_report\n",
        "from sklearn.model_selection import KFold\n",
        "\n",
        "data = pd.read_csv(\"Stunting1.csv\", encoding=\"latin-1\")\n",
        "print(data)"
      ]
    },
    {
      "cell_type": "code",
      "execution_count": 585,
      "metadata": {
        "colab": {
          "base_uri": "https://localhost:8080/",
          "height": 363
        },
        "id": "fxQvHDUsHsu-",
        "outputId": "d9ea614a-4282-4a31-8052-7039ba54c3c7"
      },
      "outputs": [
        {
          "data": {
            "text/html": [
              "<div>\n",
              "<style scoped>\n",
              "    .dataframe tbody tr th:only-of-type {\n",
              "        vertical-align: middle;\n",
              "    }\n",
              "\n",
              "    .dataframe tbody tr th {\n",
              "        vertical-align: top;\n",
              "    }\n",
              "\n",
              "    .dataframe thead th {\n",
              "        text-align: right;\n",
              "    }\n",
              "</style>\n",
              "<table border=\"1\" class=\"dataframe\">\n",
              "  <thead>\n",
              "    <tr style=\"text-align: right;\">\n",
              "      <th></th>\n",
              "      <th>Usia</th>\n",
              "      <th>Berat</th>\n",
              "      <th>Tinggi</th>\n",
              "      <th>BBU</th>\n",
              "      <th>ZS BB/U</th>\n",
              "      <th>ZS TB/U</th>\n",
              "      <th>BBTB</th>\n",
              "      <th>ZS BB/TB</th>\n",
              "      <th>Gender</th>\n",
              "      <th>TB/U</th>\n",
              "    </tr>\n",
              "  </thead>\n",
              "  <tbody>\n",
              "    <tr>\n",
              "      <th>0</th>\n",
              "      <td>56</td>\n",
              "      <td>15</td>\n",
              "      <td>105.0</td>\n",
              "      <td>Berat Badan Normal</td>\n",
              "      <td>-1.30</td>\n",
              "      <td>-0.70</td>\n",
              "      <td>Gizi Baik</td>\n",
              "      <td>-1.39</td>\n",
              "      <td>0</td>\n",
              "      <td>Normal</td>\n",
              "    </tr>\n",
              "    <tr>\n",
              "      <th>1</th>\n",
              "      <td>48</td>\n",
              "      <td>12.5</td>\n",
              "      <td>102.5</td>\n",
              "      <td>Berat Badan Normal</td>\n",
              "      <td>-1.89</td>\n",
              "      <td>-0.06</td>\n",
              "      <td>Gizi Kurang</td>\n",
              "      <td>-2.80</td>\n",
              "      <td>0</td>\n",
              "      <td>Normal</td>\n",
              "    </tr>\n",
              "    <tr>\n",
              "      <th>2</th>\n",
              "      <td>54</td>\n",
              "      <td>18</td>\n",
              "      <td>103.0</td>\n",
              "      <td>Berat Badan Normal</td>\n",
              "      <td>0.28</td>\n",
              "      <td>-0.79</td>\n",
              "      <td>Risiko Gizi Lebih</td>\n",
              "      <td>1.17</td>\n",
              "      <td>1</td>\n",
              "      <td>Normal</td>\n",
              "    </tr>\n",
              "    <tr>\n",
              "      <th>3</th>\n",
              "      <td>54</td>\n",
              "      <td>22.7</td>\n",
              "      <td>110.0</td>\n",
              "      <td>Risiko Lebih</td>\n",
              "      <td>1.93</td>\n",
              "      <td>0.63</td>\n",
              "      <td>Gizi Lebih</td>\n",
              "      <td>2.23</td>\n",
              "      <td>1</td>\n",
              "      <td>Normal</td>\n",
              "    </tr>\n",
              "    <tr>\n",
              "      <th>4</th>\n",
              "      <td>38</td>\n",
              "      <td>14.7</td>\n",
              "      <td>96.0</td>\n",
              "      <td>Berat Badan Normal</td>\n",
              "      <td>-0.06</td>\n",
              "      <td>-0.49</td>\n",
              "      <td>Gizi Baik</td>\n",
              "      <td>0.34</td>\n",
              "      <td>0</td>\n",
              "      <td>Normal</td>\n",
              "    </tr>\n",
              "    <tr>\n",
              "      <th>5</th>\n",
              "      <td>57</td>\n",
              "      <td>14.3</td>\n",
              "      <td>102.0</td>\n",
              "      <td>Berat Badan Normal</td>\n",
              "      <td>-1.57</td>\n",
              "      <td>-1.34</td>\n",
              "      <td>Gizi Baik</td>\n",
              "      <td>-1.12</td>\n",
              "      <td>1</td>\n",
              "      <td>Normal</td>\n",
              "    </tr>\n",
              "    <tr>\n",
              "      <th>6</th>\n",
              "      <td>48</td>\n",
              "      <td>16.4</td>\n",
              "      <td>104.0</td>\n",
              "      <td>Berat Badan Normal</td>\n",
              "      <td>0.08</td>\n",
              "      <td>0.19</td>\n",
              "      <td>Gizi Baik</td>\n",
              "      <td>-0.03</td>\n",
              "      <td>1</td>\n",
              "      <td>Normal</td>\n",
              "    </tr>\n",
              "    <tr>\n",
              "      <th>7</th>\n",
              "      <td>49</td>\n",
              "      <td>13</td>\n",
              "      <td>95.0</td>\n",
              "      <td>Berat Badan Normal</td>\n",
              "      <td>-1.66</td>\n",
              "      <td>-1.91</td>\n",
              "      <td>Gizi Baik</td>\n",
              "      <td>-0.75</td>\n",
              "      <td>0</td>\n",
              "      <td>Normal</td>\n",
              "    </tr>\n",
              "    <tr>\n",
              "      <th>8</th>\n",
              "      <td>51</td>\n",
              "      <td>15.8</td>\n",
              "      <td>100.0</td>\n",
              "      <td>Berat Badan Normal</td>\n",
              "      <td>-0.89</td>\n",
              "      <td>-1.83</td>\n",
              "      <td>Gizi Baik</td>\n",
              "      <td>0.41</td>\n",
              "      <td>0</td>\n",
              "      <td>Normal</td>\n",
              "    </tr>\n",
              "    <tr>\n",
              "      <th>9</th>\n",
              "      <td>58</td>\n",
              "      <td>17</td>\n",
              "      <td>103.0</td>\n",
              "      <td>Berat Badan Normal</td>\n",
              "      <td>-0.35</td>\n",
              "      <td>-1.16</td>\n",
              "      <td>Gizi Baik</td>\n",
              "      <td>0.57</td>\n",
              "      <td>0</td>\n",
              "      <td>Normal</td>\n",
              "    </tr>\n",
              "  </tbody>\n",
              "</table>\n",
              "</div>"
            ],
            "text/plain": [
              "   Usia Berat  Tinggi                 BBU  ZS BB/U  ZS TB/U  \\\n",
              "0    56    15   105.0  Berat Badan Normal    -1.30    -0.70   \n",
              "1    48  12.5   102.5  Berat Badan Normal    -1.89    -0.06   \n",
              "2    54    18   103.0  Berat Badan Normal     0.28    -0.79   \n",
              "3    54  22.7   110.0        Risiko Lebih     1.93     0.63   \n",
              "4    38  14.7    96.0  Berat Badan Normal    -0.06    -0.49   \n",
              "5    57  14.3   102.0  Berat Badan Normal    -1.57    -1.34   \n",
              "6    48  16.4   104.0  Berat Badan Normal     0.08     0.19   \n",
              "7    49    13    95.0  Berat Badan Normal    -1.66    -1.91   \n",
              "8    51  15.8   100.0  Berat Badan Normal    -0.89    -1.83   \n",
              "9    58    17   103.0  Berat Badan Normal    -0.35    -1.16   \n",
              "\n",
              "                BBTB  ZS BB/TB  Gender    TB/U  \n",
              "0          Gizi Baik     -1.39       0  Normal  \n",
              "1        Gizi Kurang     -2.80       0  Normal  \n",
              "2  Risiko Gizi Lebih      1.17       1  Normal  \n",
              "3         Gizi Lebih      2.23       1  Normal  \n",
              "4          Gizi Baik      0.34       0  Normal  \n",
              "5          Gizi Baik     -1.12       1  Normal  \n",
              "6          Gizi Baik     -0.03       1  Normal  \n",
              "7          Gizi Baik     -0.75       0  Normal  \n",
              "8          Gizi Baik      0.41       0  Normal  \n",
              "9          Gizi Baik      0.57       0  Normal  "
            ]
          },
          "execution_count": 585,
          "metadata": {},
          "output_type": "execute_result"
        }
      ],
      "source": [
        "data.head(10)"
      ]
    },
    {
      "cell_type": "code",
      "execution_count": 586,
      "metadata": {},
      "outputs": [
        {
          "data": {
            "text/html": [
              "<div>\n",
              "<style scoped>\n",
              "    .dataframe tbody tr th:only-of-type {\n",
              "        vertical-align: middle;\n",
              "    }\n",
              "\n",
              "    .dataframe tbody tr th {\n",
              "        vertical-align: top;\n",
              "    }\n",
              "\n",
              "    .dataframe thead th {\n",
              "        text-align: right;\n",
              "    }\n",
              "</style>\n",
              "<table border=\"1\" class=\"dataframe\">\n",
              "  <thead>\n",
              "    <tr style=\"text-align: right;\">\n",
              "      <th></th>\n",
              "      <th>Usia</th>\n",
              "      <th>Berat</th>\n",
              "      <th>Tinggi</th>\n",
              "      <th>BBU</th>\n",
              "      <th>BBTB</th>\n",
              "      <th>Gender</th>\n",
              "      <th>TB/U</th>\n",
              "    </tr>\n",
              "  </thead>\n",
              "  <tbody>\n",
              "    <tr>\n",
              "      <th>0</th>\n",
              "      <td>56</td>\n",
              "      <td>15</td>\n",
              "      <td>105.0</td>\n",
              "      <td>Berat Badan Normal</td>\n",
              "      <td>Gizi Baik</td>\n",
              "      <td>0</td>\n",
              "      <td>Normal</td>\n",
              "    </tr>\n",
              "    <tr>\n",
              "      <th>1</th>\n",
              "      <td>48</td>\n",
              "      <td>12.5</td>\n",
              "      <td>102.5</td>\n",
              "      <td>Berat Badan Normal</td>\n",
              "      <td>Gizi Kurang</td>\n",
              "      <td>0</td>\n",
              "      <td>Normal</td>\n",
              "    </tr>\n",
              "    <tr>\n",
              "      <th>2</th>\n",
              "      <td>54</td>\n",
              "      <td>18</td>\n",
              "      <td>103.0</td>\n",
              "      <td>Berat Badan Normal</td>\n",
              "      <td>Risiko Gizi Lebih</td>\n",
              "      <td>1</td>\n",
              "      <td>Normal</td>\n",
              "    </tr>\n",
              "    <tr>\n",
              "      <th>3</th>\n",
              "      <td>54</td>\n",
              "      <td>22.7</td>\n",
              "      <td>110.0</td>\n",
              "      <td>Risiko Lebih</td>\n",
              "      <td>Gizi Lebih</td>\n",
              "      <td>1</td>\n",
              "      <td>Normal</td>\n",
              "    </tr>\n",
              "    <tr>\n",
              "      <th>4</th>\n",
              "      <td>38</td>\n",
              "      <td>14.7</td>\n",
              "      <td>96.0</td>\n",
              "      <td>Berat Badan Normal</td>\n",
              "      <td>Gizi Baik</td>\n",
              "      <td>0</td>\n",
              "      <td>Normal</td>\n",
              "    </tr>\n",
              "    <tr>\n",
              "      <th>5</th>\n",
              "      <td>57</td>\n",
              "      <td>14.3</td>\n",
              "      <td>102.0</td>\n",
              "      <td>Berat Badan Normal</td>\n",
              "      <td>Gizi Baik</td>\n",
              "      <td>1</td>\n",
              "      <td>Normal</td>\n",
              "    </tr>\n",
              "    <tr>\n",
              "      <th>6</th>\n",
              "      <td>48</td>\n",
              "      <td>16.4</td>\n",
              "      <td>104.0</td>\n",
              "      <td>Berat Badan Normal</td>\n",
              "      <td>Gizi Baik</td>\n",
              "      <td>1</td>\n",
              "      <td>Normal</td>\n",
              "    </tr>\n",
              "    <tr>\n",
              "      <th>7</th>\n",
              "      <td>49</td>\n",
              "      <td>13</td>\n",
              "      <td>95.0</td>\n",
              "      <td>Berat Badan Normal</td>\n",
              "      <td>Gizi Baik</td>\n",
              "      <td>0</td>\n",
              "      <td>Normal</td>\n",
              "    </tr>\n",
              "    <tr>\n",
              "      <th>8</th>\n",
              "      <td>51</td>\n",
              "      <td>15.8</td>\n",
              "      <td>100.0</td>\n",
              "      <td>Berat Badan Normal</td>\n",
              "      <td>Gizi Baik</td>\n",
              "      <td>0</td>\n",
              "      <td>Normal</td>\n",
              "    </tr>\n",
              "    <tr>\n",
              "      <th>9</th>\n",
              "      <td>58</td>\n",
              "      <td>17</td>\n",
              "      <td>103.0</td>\n",
              "      <td>Berat Badan Normal</td>\n",
              "      <td>Gizi Baik</td>\n",
              "      <td>0</td>\n",
              "      <td>Normal</td>\n",
              "    </tr>\n",
              "  </tbody>\n",
              "</table>\n",
              "</div>"
            ],
            "text/plain": [
              "   Usia Berat  Tinggi                 BBU               BBTB  Gender    TB/U\n",
              "0    56    15   105.0  Berat Badan Normal          Gizi Baik       0  Normal\n",
              "1    48  12.5   102.5  Berat Badan Normal        Gizi Kurang       0  Normal\n",
              "2    54    18   103.0  Berat Badan Normal  Risiko Gizi Lebih       1  Normal\n",
              "3    54  22.7   110.0        Risiko Lebih         Gizi Lebih       1  Normal\n",
              "4    38  14.7    96.0  Berat Badan Normal          Gizi Baik       0  Normal\n",
              "5    57  14.3   102.0  Berat Badan Normal          Gizi Baik       1  Normal\n",
              "6    48  16.4   104.0  Berat Badan Normal          Gizi Baik       1  Normal\n",
              "7    49    13    95.0  Berat Badan Normal          Gizi Baik       0  Normal\n",
              "8    51  15.8   100.0  Berat Badan Normal          Gizi Baik       0  Normal\n",
              "9    58    17   103.0  Berat Badan Normal          Gizi Baik       0  Normal"
            ]
          },
          "execution_count": 586,
          "metadata": {},
          "output_type": "execute_result"
        }
      ],
      "source": [
        "data.drop(['ZS BB/U', 'ZS TB/U', 'ZS BB/TB' ], axis=1, inplace=True)\n",
        "data.head(10)"
      ]
    },
    {
      "cell_type": "markdown",
      "metadata": {
        "id": "0TcISkbQlnO8"
      },
      "source": [
        "## VISUALISASI"
      ]
    },
    {
      "cell_type": "code",
      "execution_count": 587,
      "metadata": {
        "colab": {
          "base_uri": "https://localhost:8080/",
          "height": 472
        },
        "id": "47Qs8mi97MTO",
        "outputId": "ed42702f-6974-456e-e38c-691efa9be65f"
      },
      "outputs": [
        {
          "data": {
            "image/png": "[encoded data removed]",
            "text/plain": [
              "<Figure size 640x480 with 1 Axes>"
            ]
          },
          "metadata": {},
          "output_type": "display_data"
        }
      ],
      "source": [
        "sns.countplot(data=data, x='Gender', hue='TB/U')\n",
        "plt.legend(title='Stunting', labels=['Normal', 'Pendek', 'Sangat Pendek'])\n",
        "plt.title('Gender Distribution')\n",
        "plt.show()"
      ]
    },
    {
      "cell_type": "code",
      "execution_count": 588,
      "metadata": {
        "colab": {
          "base_uri": "https://localhost:8080/",
          "height": 521
        },
        "id": "mdbUPLQf7lWl",
        "outputId": "2b54bae4-33f0-4b84-e5fc-449c488962cd"
      },
      "outputs": [
        {
          "data": {
            "image/png": "[encoded data removed]",
            "text/plain": [
              "<Figure size 800x600 with 1 Axes>"
            ]
          },
          "metadata": {},
          "output_type": "display_data"
        }
      ],
      "source": [
        "sex_counts = data['Gender'].value_counts()\n",
        "labels = ['Male', 'Female']\n",
        "plt.figure(figsize=(8, 6))\n",
        "plt.pie(sex_counts, labels=labels, autopct='%1.1f%%', startangle=90, colors=['green', 'blue'])\n",
        "plt.title('Gender Ratio')\n",
        "plt.show()"
      ]
    },
    {
      "cell_type": "code",
      "execution_count": 589,
      "metadata": {
        "colab": {
          "base_uri": "https://localhost:8080/",
          "height": 521
        },
        "id": "_4xKMqiQ74vW",
        "outputId": "cd3fecb4-dc88-4d25-d10d-014694d6eaf1"
      },
      "outputs": [
        {
          "data": {
            "image/png": "[encoded data removed]",
            "text/plain": [
              "<Figure size 800x600 with 1 Axes>"
            ]
          },
          "metadata": {},
          "output_type": "display_data"
        }
      ],
      "source": [
        "survived = data['TB/U'].value_counts()\n",
        "labels = ['Normal', 'Pendek', 'Sangat Pendek']\n",
        "plt.figure(figsize=(8, 6))\n",
        "plt.pie(survived, labels=labels, autopct='%1.1f%%', startangle=90, colors=['red', 'green', 'blue'])\n",
        "plt.title('Stunting Ratio')\n",
        "plt.show()"
      ]
    },
    {
      "cell_type": "code",
      "execution_count": 590,
      "metadata": {
        "colab": {
          "base_uri": "https://localhost:8080/",
          "height": 430
        },
        "id": "lqi5a6dB7AMH",
        "outputId": "a8a17d63-7ca2-41f6-c3e7-785926a7b1d5"
      },
      "outputs": [
        {
          "data": {
            "image/png": "[encoded data removed]",
            "text/plain": [
              "<Figure size 640x480 with 1 Axes>"
            ]
          },
          "metadata": {},
          "output_type": "display_data"
        }
      ],
      "source": [
        "# @title TB/U\n",
        "\n",
        "from matplotlib import pyplot as plt\n",
        "import seaborn as sns\n",
        "data.groupby('TB/U').size().plot(kind='barh', color=sns.palettes.mpl_palette('Dark2'))\n",
        "plt.gca().spines[['top', 'right',]].set_visible(False)"
      ]
    },
    {
      "cell_type": "code",
      "execution_count": 591,
      "metadata": {
        "colab": {
          "base_uri": "https://localhost:8080/",
          "height": 430
        },
        "id": "TMdIyPx9DkkG",
        "outputId": "a391e973-70c3-40d0-e173-06cfbb3c0540"
      },
      "outputs": [
        {
          "data": {
            "image/png": "[encoded data removed]",
            "text/plain": [
              "<Figure size 640x480 with 1 Axes>"
            ]
          },
          "metadata": {},
          "output_type": "display_data"
        }
      ],
      "source": [
        "# @title BB/TB\n",
        "\n",
        "from matplotlib import pyplot as plt\n",
        "import seaborn as sns\n",
        "data.groupby('BBTB').size().plot(kind='barh', color=sns.palettes.mpl_palette('Dark2'))\n",
        "plt.gca().spines[['top', 'right',]].set_visible(False)"
      ]
    },
    {
      "cell_type": "code",
      "execution_count": 592,
      "metadata": {
        "colab": {
          "base_uri": "https://localhost:8080/",
          "height": 430
        },
        "id": "kLRgt9USDZuj",
        "outputId": "02d9c9ac-c21d-4de7-a028-a6ab5d978976"
      },
      "outputs": [
        {
          "data": {
            "image/png": "[encoded data removed]",
            "text/plain": [
              "<Figure size 640x480 with 1 Axes>"
            ]
          },
          "metadata": {},
          "output_type": "display_data"
        }
      ],
      "source": [
        "# @title BB/U\n",
        "\n",
        "from matplotlib import pyplot as plt\n",
        "import seaborn as sns\n",
        "data.groupby('BBU').size().plot(kind='barh', color=sns.palettes.mpl_palette('Dark2'))\n",
        "plt.gca().spines[['top', 'right',]].set_visible(False)"
      ]
    },
    {
      "cell_type": "markdown",
      "metadata": {
        "id": "7Wr6EdNflreS"
      },
      "source": [
        "### CEK DATA VALUE"
      ]
    },
    {
      "cell_type": "code",
      "execution_count": 593,
      "metadata": {},
      "outputs": [],
      "source": [
        "data['BBU'] = data['BBU'].replace(['Gizi Baik', 'Gizi Kurang', 'ko Lebih'], ['Berat Badan Normal', 'Kurang', 'Risiko Lebih'])"
      ]
    },
    {
      "cell_type": "code",
      "execution_count": 594,
      "metadata": {
        "colab": {
          "base_uri": "https://localhost:8080/"
        },
        "id": "XFsKEgPK5lbY",
        "outputId": "56cfc3a5-cbc6-4a3d-8c8f-db445496db21"
      },
      "outputs": [
        {
          "name": "stdout",
          "output_type": "stream",
          "text": [
            "['Berat Badan Normal' 'Risiko Lebih' 'Kurang' 'Sangat Kurang']\n",
            "['Gizi Baik' 'Gizi Kurang' 'Risiko Gizi Lebih' 'Gizi Lebih' 'Obesitas']\n",
            "['Normal' 'Pendek' 'Sangat Pendek']\n",
            "[0 1]\n"
          ]
        }
      ],
      "source": [
        "print(data['BBU'].unique())\n",
        "print(data['BBTB'].unique())\n",
        "print(data['TB/U'].unique())\n",
        "print(data['Gender'].unique())"
      ]
    },
    {
      "cell_type": "code",
      "execution_count": 595,
      "metadata": {
        "colab": {
          "base_uri": "https://localhost:8080/",
          "height": 272
        },
        "id": "x-31avwj4Cg0",
        "outputId": "c5cdba65-4cd5-4e14-bab6-45470137c3c9"
      },
      "outputs": [
        {
          "data": {
            "text/plain": [
              "Gizi Baik            1665\n",
              "Gizi Kurang           298\n",
              "Risiko Gizi Lebih      94\n",
              "Gizi Lebih             52\n",
              "Obesitas               31\n",
              "Name: BBTB, dtype: int64"
            ]
          },
          "execution_count": 595,
          "metadata": {},
          "output_type": "execute_result"
        }
      ],
      "source": [
        "data['BBTB'].value_counts()"
      ]
    },
    {
      "cell_type": "code",
      "execution_count": 596,
      "metadata": {},
      "outputs": [
        {
          "data": {
            "text/plain": [
              "Berat Badan Normal    1452\n",
              "Risiko Lebih           329\n",
              "Sangat Kurang          190\n",
              "Kurang                 169\n",
              "Name: BBU, dtype: int64"
            ]
          },
          "execution_count": 596,
          "metadata": {},
          "output_type": "execute_result"
        }
      ],
      "source": [
        "data['BBU'].value_counts()"
      ]
    },
    {
      "cell_type": "code",
      "execution_count": 597,
      "metadata": {
        "colab": {
          "base_uri": "https://localhost:8080/",
          "height": 210
        },
        "id": "AaZNNiYT4KzY",
        "outputId": "ee991160-4269-4370-d1b9-3655febef11c"
      },
      "outputs": [
        {
          "data": {
            "text/plain": [
              "Normal           1333\n",
              "Pendek            621\n",
              "Sangat Pendek     186\n",
              "Name: TB/U, dtype: int64"
            ]
          },
          "execution_count": 597,
          "metadata": {},
          "output_type": "execute_result"
        }
      ],
      "source": [
        "data['TB/U'].value_counts()"
      ]
    },
    {
      "cell_type": "code",
      "execution_count": 598,
      "metadata": {
        "colab": {
          "base_uri": "https://localhost:8080/"
        },
        "id": "Tfk5IH4pGA9Y",
        "outputId": "50379266-76b8-411b-b9cc-88c4cafbe11a"
      },
      "outputs": [
        {
          "data": {
            "text/plain": [
              "array([0, 1], dtype=int64)"
            ]
          },
          "execution_count": 598,
          "metadata": {},
          "output_type": "execute_result"
        }
      ],
      "source": [
        "data['Gender'].unique()"
      ]
    },
    {
      "cell_type": "code",
      "execution_count": 599,
      "metadata": {
        "colab": {
          "base_uri": "https://localhost:8080/"
        },
        "id": "6Cg2JYgb7dNH",
        "outputId": "330a3783-3f06-4c3f-b4d0-0c5c14c142d7"
      },
      "outputs": [
        {
          "name": "stdout",
          "output_type": "stream",
          "text": [
            "<class 'pandas.core.frame.DataFrame'>\n",
            "RangeIndex: 2140 entries, 0 to 2139\n",
            "Data columns (total 7 columns):\n",
            " #   Column  Non-Null Count  Dtype  \n",
            "---  ------  --------------  -----  \n",
            " 0   Usia    2140 non-null   int64  \n",
            " 1   Berat   2140 non-null   object \n",
            " 2   Tinggi  2140 non-null   float64\n",
            " 3   BBU     2140 non-null   object \n",
            " 4   BBTB    2140 non-null   object \n",
            " 5   Gender  2140 non-null   int64  \n",
            " 6   TB/U    2140 non-null   object \n",
            "dtypes: float64(1), int64(2), object(4)\n",
            "memory usage: 117.2+ KB\n"
          ]
        }
      ],
      "source": [
        "data.info()"
      ]
    },
    {
      "cell_type": "code",
      "execution_count": 600,
      "metadata": {
        "colab": {
          "base_uri": "https://localhost:8080/",
          "height": 300
        },
        "id": "AHpE0ivD1Sk8",
        "outputId": "e3099f19-b642-4cc0-bc8e-771c0207007d"
      },
      "outputs": [
        {
          "data": {
            "text/html": [
              "<div>\n",
              "<style scoped>\n",
              "    .dataframe tbody tr th:only-of-type {\n",
              "        vertical-align: middle;\n",
              "    }\n",
              "\n",
              "    .dataframe tbody tr th {\n",
              "        vertical-align: top;\n",
              "    }\n",
              "\n",
              "    .dataframe thead th {\n",
              "        text-align: right;\n",
              "    }\n",
              "</style>\n",
              "<table border=\"1\" class=\"dataframe\">\n",
              "  <thead>\n",
              "    <tr style=\"text-align: right;\">\n",
              "      <th></th>\n",
              "      <th>Usia</th>\n",
              "      <th>Tinggi</th>\n",
              "      <th>Gender</th>\n",
              "    </tr>\n",
              "  </thead>\n",
              "  <tbody>\n",
              "    <tr>\n",
              "      <th>count</th>\n",
              "      <td>2140.000000</td>\n",
              "      <td>2140.000000</td>\n",
              "      <td>2140.000000</td>\n",
              "    </tr>\n",
              "    <tr>\n",
              "      <th>mean</th>\n",
              "      <td>46.495327</td>\n",
              "      <td>96.947196</td>\n",
              "      <td>0.480841</td>\n",
              "    </tr>\n",
              "    <tr>\n",
              "      <th>std</th>\n",
              "      <td>8.232280</td>\n",
              "      <td>6.474415</td>\n",
              "      <td>0.499750</td>\n",
              "    </tr>\n",
              "    <tr>\n",
              "      <th>min</th>\n",
              "      <td>23.000000</td>\n",
              "      <td>77.500000</td>\n",
              "      <td>0.000000</td>\n",
              "    </tr>\n",
              "    <tr>\n",
              "      <th>25%</th>\n",
              "      <td>39.000000</td>\n",
              "      <td>91.000000</td>\n",
              "      <td>0.000000</td>\n",
              "    </tr>\n",
              "    <tr>\n",
              "      <th>50%</th>\n",
              "      <td>48.000000</td>\n",
              "      <td>96.000000</td>\n",
              "      <td>0.000000</td>\n",
              "    </tr>\n",
              "    <tr>\n",
              "      <th>75%</th>\n",
              "      <td>54.000000</td>\n",
              "      <td>102.000000</td>\n",
              "      <td>1.000000</td>\n",
              "    </tr>\n",
              "    <tr>\n",
              "      <th>max</th>\n",
              "      <td>59.000000</td>\n",
              "      <td>118.700000</td>\n",
              "      <td>1.000000</td>\n",
              "    </tr>\n",
              "  </tbody>\n",
              "</table>\n",
              "</div>"
            ],
            "text/plain": [
              "              Usia       Tinggi       Gender\n",
              "count  2140.000000  2140.000000  2140.000000\n",
              "mean     46.495327    96.947196     0.480841\n",
              "std       8.232280     6.474415     0.499750\n",
              "min      23.000000    77.500000     0.000000\n",
              "25%      39.000000    91.000000     0.000000\n",
              "50%      48.000000    96.000000     0.000000\n",
              "75%      54.000000   102.000000     1.000000\n",
              "max      59.000000   118.700000     1.000000"
            ]
          },
          "execution_count": 600,
          "metadata": {},
          "output_type": "execute_result"
        }
      ],
      "source": [
        "data.describe()"
      ]
    },
    {
      "cell_type": "markdown",
      "metadata": {
        "id": "7HzV0uwzlQwp"
      },
      "source": [
        "## MODELING DATA"
      ]
    },
    {
      "cell_type": "code",
      "execution_count": 601,
      "metadata": {
        "id": "f9WTxFah8Isy"
      },
      "outputs": [],
      "source": [
        "from sklearn.preprocessing import LabelEncoder\n",
        "labelencoder_BBU = LabelEncoder()\n",
        "data['BBU'] = labelencoder_BBU.fit_transform(data['BBU'])\n",
        "\n",
        "labelencoder_BBTB = LabelEncoder()\n",
        "data['BBTB'] = labelencoder_BBTB.fit_transform(data['BBTB'])\n"
      ]
    },
    {
      "cell_type": "code",
      "execution_count": 602,
      "metadata": {},
      "outputs": [],
      "source": [
        "columns_with_comma_numbers = ['Berat', 'Tinggi', 'BBU', 'BBTB']\n",
        "\n",
        "for column in columns_with_comma_numbers:\n",
        "  if data[column].dtype == 'object':\n",
        "    data[column] = data[column].str.replace(',', '.').astype(float)"
      ]
    },
    {
      "cell_type": "code",
      "execution_count": 603,
      "metadata": {
        "colab": {
          "base_uri": "https://localhost:8080/"
        },
        "id": "6BVEgGxUCgmB",
        "outputId": "ac4c8df5-3e32-49b6-9559-e62d2b9bba1a"
      },
      "outputs": [],
      "source": [
        "X = data.drop (columns='TB/U', axis=1)\n",
        "y = data['TB/U']"
      ]
    },
    {
      "cell_type": "code",
      "execution_count": 604,
      "metadata": {},
      "outputs": [],
      "source": [
        "labelencoder_y = LabelEncoder()\n",
        "y = labelencoder_y.fit_transform(y) "
      ]
    },
    {
      "cell_type": "code",
      "execution_count": 605,
      "metadata": {},
      "outputs": [],
      "source": [
        "scaler = StandardScaler()\n",
        "X_scaled = scaler.fit_transform(X)"
      ]
    },
    {
      "cell_type": "code",
      "execution_count": 606,
      "metadata": {},
      "outputs": [],
      "source": [
        "X_train, X_test, y_train, y_test = train_test_split(X_scaled, y, test_size=0.2, random_state=0)"
      ]
    },
    {
      "cell_type": "code",
      "execution_count": 607,
      "metadata": {
        "colab": {
          "base_uri": "https://localhost:8080/"
        },
        "id": "kQZe8E1I6XVM",
        "outputId": "06a78883-e814-4239-867d-7f60ef4b52c3"
      },
      "outputs": [],
      "source": [
        "naiveB = GaussianNB()"
      ]
    },
    {
      "cell_type": "code",
      "execution_count": 608,
      "metadata": {},
      "outputs": [
        {
          "name": "stdout",
          "output_type": "stream",
          "text": [
            "K-Fold Cross Validation Accuracy: 83.3644859813084\n"
          ]
        }
      ],
      "source": [
        "kf = KFold(n_splits=5, shuffle=True, random_state=0)\n",
        "accuracy_list = []\n",
        "\n",
        "for train_index, val_index in kf.split(X_scaled):\n",
        "    X_train_kf, X_val_kf = X_scaled[train_index], X_scaled[val_index]\n",
        "    y_train_kf, y_val_kf = y[train_index], y[val_index]  # Changed y.iloc[] to y[]\n",
        "\n",
        "    naiveB.fit(X_train_kf, y_train_kf)\n",
        "    y_val_pred = naiveB.predict(X_val_kf)\n",
        "    accuracy = accuracy_score(y_val_kf, y_val_pred)\n",
        "    accuracy_list.append(accuracy)\n",
        "\n",
        "print(\"K-Fold Cross Validation Accuracy:\", np.mean(accuracy_list) * 100)"
      ]
    },
    {
      "cell_type": "code",
      "execution_count": 609,
      "metadata": {},
      "outputs": [
        {
          "data": {
            "text/html": [
              "<style>#sk-container-id-22 {color: black;background-color: white;}#sk-container-id-22 pre{padding: 0;}#sk-container-id-22 div.sk-toggleable {background-color: white;}#sk-container-id-22 label.sk-toggleable__label {cursor: pointer;display: block;width: 100%;margin-bottom: 0;padding: 0.3em;box-sizing: border-box;text-align: center;}#sk-container-id-22 label.sk-toggleable__label-arrow:before {content: \"▸\";float: left;margin-right: 0.25em;color: #696969;}#sk-container-id-22 label.sk-toggleable__label-arrow:hover:before {color: black;}#sk-container-id-22 div.sk-estimator:hover label.sk-toggleable__label-arrow:before {color: black;}#sk-container-id-22 div.sk-toggleable__content {max-height: 0;max-width: 0;overflow: hidden;text-align: left;background-color: #f0f8ff;}#sk-container-id-22 div.sk-toggleable__content pre {margin: 0.2em;color: black;border-radius: 0.25em;background-color: #f0f8ff;}#sk-container-id-22 input.sk-toggleable__control:checked~div.sk-toggleable__content {max-height: 200px;max-width: 100%;overflow: auto;}#sk-container-id-22 input.sk-toggleable__control:checked~label.sk-toggleable__label-arrow:before {content: \"▾\";}#sk-container-id-22 div.sk-estimator input.sk-toggleable__control:checked~label.sk-toggleable__label {background-color: #d4ebff;}#sk-container-id-22 div.sk-label input.sk-toggleable__control:checked~label.sk-toggleable__label {background-color: #d4ebff;}#sk-container-id-22 input.sk-hidden--visually {border: 0;clip: rect(1px 1px 1px 1px);clip: rect(1px, 1px, 1px, 1px);height: 1px;margin: -1px;overflow: hidden;padding: 0;position: absolute;width: 1px;}#sk-container-id-22 div.sk-estimator {font-family: monospace;background-color: #f0f8ff;border: 1px dotted black;border-radius: 0.25em;box-sizing: border-box;margin-bottom: 0.5em;}#sk-container-id-22 div.sk-estimator:hover {background-color: #d4ebff;}#sk-container-id-22 div.sk-parallel-item::after {content: \"\";width: 100%;border-bottom: 1px solid gray;flex-grow: 1;}#sk-container-id-22 div.sk-label:hover label.sk-toggleable__label {background-color: #d4ebff;}#sk-container-id-22 div.sk-serial::before {content: \"\";position: absolute;border-left: 1px solid gray;box-sizing: border-box;top: 0;bottom: 0;left: 50%;z-index: 0;}#sk-container-id-22 div.sk-serial {display: flex;flex-direction: column;align-items: center;background-color: white;padding-right: 0.2em;padding-left: 0.2em;position: relative;}#sk-container-id-22 div.sk-item {position: relative;z-index: 1;}#sk-container-id-22 div.sk-parallel {display: flex;align-items: stretch;justify-content: center;background-color: white;position: relative;}#sk-container-id-22 div.sk-item::before, #sk-container-id-22 div.sk-parallel-item::before {content: \"\";position: absolute;border-left: 1px solid gray;box-sizing: border-box;top: 0;bottom: 0;left: 50%;z-index: -1;}#sk-container-id-22 div.sk-parallel-item {display: flex;flex-direction: column;z-index: 1;position: relative;background-color: white;}#sk-container-id-22 div.sk-parallel-item:first-child::after {align-self: flex-end;width: 50%;}#sk-container-id-22 div.sk-parallel-item:last-child::after {align-self: flex-start;width: 50%;}#sk-container-id-22 div.sk-parallel-item:only-child::after {width: 0;}#sk-container-id-22 div.sk-dashed-wrapped {border: 1px dashed gray;margin: 0 0.4em 0.5em 0.4em;box-sizing: border-box;padding-bottom: 0.4em;background-color: white;}#sk-container-id-22 div.sk-label label {font-family: monospace;font-weight: bold;display: inline-block;line-height: 1.2em;}#sk-container-id-22 div.sk-label-container {text-align: center;}#sk-container-id-22 div.sk-container {/* jupyter's `normalize.less` sets `[hidden] { display: none; }` but bootstrap.min.css set `[hidden] { display: none !important; }` so we also need the `!important` here to be able to override the default hidden behavior on the sphinx rendered scikit-learn.org. See: https://github.com/scikit-learn/scikit-learn/issues/21755 */display: inline-block !important;position: relative;}#sk-container-id-22 div.sk-text-repr-fallback {display: none;}</style><div id=\"sk-container-id-22\" class=\"sk-top-container\"><div class=\"sk-text-repr-fallback\"><pre>GaussianNB()</pre><b>In a Jupyter environment, please rerun this cell to show the HTML representation or trust the notebook. <br />On GitHub, the HTML representation is unable to render, please try loading this page with nbviewer.org.</b></div><div class=\"sk-container\" hidden><div class=\"sk-item\"><div class=\"sk-estimator sk-toggleable\"><input class=\"sk-toggleable__control sk-hidden--visually\" id=\"sk-estimator-id-22\" type=\"checkbox\" checked><label for=\"sk-estimator-id-22\" class=\"sk-toggleable__label sk-toggleable__label-arrow\">GaussianNB</label><div class=\"sk-toggleable__content\"><pre>GaussianNB()</pre></div></div></div></div></div>"
            ],
            "text/plain": [
              "GaussianNB()"
            ]
          },
          "execution_count": 609,
          "metadata": {},
          "output_type": "execute_result"
        }
      ],
      "source": [
        "naiveB.fit(X_train, y_train)"
      ]
    },
    {
      "cell_type": "code",
      "execution_count": 610,
      "metadata": {
        "colab": {
          "base_uri": "https://localhost:8080/"
        },
        "id": "7vbip1sx7n-8",
        "outputId": "d79d80b1-4054-4b8b-8c08-a06b3e050a69"
      },
      "outputs": [
        {
          "name": "stdout",
          "output_type": "stream",
          "text": [
            "Accuracy score Naive Bayes: 84.11214953271028\n",
            "Classification Report Naive Bayes:\n",
            "              precision    recall  f1-score   support\n",
            "\n",
            "           0       0.95      0.82      0.88       274\n",
            "           1       0.65      0.87      0.74       111\n",
            "           2       0.93      0.91      0.92        43\n",
            "\n",
            "    accuracy                           0.84       428\n",
            "   macro avg       0.84      0.87      0.85       428\n",
            "weighted avg       0.87      0.84      0.85       428\n",
            "\n"
          ]
        }
      ],
      "source": [
        "y_pred_naiveB = naiveB.predict(X_test)\n",
        "accuracy_naiveB = accuracy_score(y_test, y_pred_naiveB) * 100\n",
        "print(\"Accuracy score Naive Bayes:\", accuracy_naiveB)\n",
        "print(\"Classification Report Naive Bayes:\")\n",
        "print(classification_report(y_test, y_pred_naiveB))"
      ]
    },
    {
      "cell_type": "code",
      "execution_count": 611,
      "metadata": {},
      "outputs": [
        {
          "name": "stdout",
          "output_type": "stream",
          "text": [
            "Accuracy score Naive Bayes (Training Set): 83.70327102803739\n",
            "Classification Report Naive Bayes (Training Set):\n",
            "              precision    recall  f1-score   support\n",
            "\n",
            "           0       0.94      0.81      0.87      1059\n",
            "           1       0.68      0.88      0.76       510\n",
            "           2       0.92      0.92      0.92       143\n",
            "\n",
            "    accuracy                           0.84      1712\n",
            "   macro avg       0.84      0.87      0.85      1712\n",
            "weighted avg       0.86      0.84      0.84      1712\n",
            "\n"
          ]
        }
      ],
      "source": [
        "y1_pred_naiveB = naiveB.predict(X_train)\n",
        "accuracy_naiveB_train = accuracy_score(y_train, y1_pred_naiveB) * 100\n",
        "print(\"Accuracy score Naive Bayes (Training Set):\", accuracy_naiveB_train)\n",
        "print(\"Classification Report Naive Bayes (Training Set):\")\n",
        "print(classification_report(y_train, y1_pred_naiveB))"
      ]
    },
    {
      "cell_type": "markdown",
      "metadata": {
        "id": "DsxhIefNlWOU"
      },
      "source": [
        "## EVALUASI"
      ]
    },
    {
      "cell_type": "markdown",
      "metadata": {
        "id": "tRfA4ecglLBX"
      },
      "source": [
        "### DATA YANG DIGUNAKAN UNTUK INPUTAN"
      ]
    },
    {
      "cell_type": "code",
      "execution_count": 612,
      "metadata": {
        "colab": {
          "base_uri": "https://localhost:8080/",
          "height": 424
        },
        "id": "Ik_AfMcNJiR8",
        "outputId": "64129867-8e6f-43b8-fe6b-921b5a2bb6dd"
      },
      "outputs": [
        {
          "data": {
            "text/html": [
              "<div>\n",
              "<style scoped>\n",
              "    .dataframe tbody tr th:only-of-type {\n",
              "        vertical-align: middle;\n",
              "    }\n",
              "\n",
              "    .dataframe tbody tr th {\n",
              "        vertical-align: top;\n",
              "    }\n",
              "\n",
              "    .dataframe thead th {\n",
              "        text-align: right;\n",
              "    }\n",
              "</style>\n",
              "<table border=\"1\" class=\"dataframe\">\n",
              "  <thead>\n",
              "    <tr style=\"text-align: right;\">\n",
              "      <th></th>\n",
              "      <th>Usia</th>\n",
              "      <th>Berat</th>\n",
              "      <th>Tinggi</th>\n",
              "      <th>BBU</th>\n",
              "      <th>BBTB</th>\n",
              "      <th>Gender</th>\n",
              "      <th>TB/U</th>\n",
              "    </tr>\n",
              "  </thead>\n",
              "  <tbody>\n",
              "    <tr>\n",
              "      <th>0</th>\n",
              "      <td>56</td>\n",
              "      <td>15.0</td>\n",
              "      <td>105.0</td>\n",
              "      <td>0</td>\n",
              "      <td>0</td>\n",
              "      <td>0</td>\n",
              "      <td>Normal</td>\n",
              "    </tr>\n",
              "    <tr>\n",
              "      <th>1</th>\n",
              "      <td>48</td>\n",
              "      <td>12.5</td>\n",
              "      <td>102.5</td>\n",
              "      <td>0</td>\n",
              "      <td>1</td>\n",
              "      <td>0</td>\n",
              "      <td>Normal</td>\n",
              "    </tr>\n",
              "    <tr>\n",
              "      <th>2</th>\n",
              "      <td>54</td>\n",
              "      <td>18.0</td>\n",
              "      <td>103.0</td>\n",
              "      <td>0</td>\n",
              "      <td>4</td>\n",
              "      <td>1</td>\n",
              "      <td>Normal</td>\n",
              "    </tr>\n",
              "    <tr>\n",
              "      <th>3</th>\n",
              "      <td>54</td>\n",
              "      <td>22.7</td>\n",
              "      <td>110.0</td>\n",
              "      <td>2</td>\n",
              "      <td>2</td>\n",
              "      <td>1</td>\n",
              "      <td>Normal</td>\n",
              "    </tr>\n",
              "    <tr>\n",
              "      <th>4</th>\n",
              "      <td>38</td>\n",
              "      <td>14.7</td>\n",
              "      <td>96.0</td>\n",
              "      <td>0</td>\n",
              "      <td>0</td>\n",
              "      <td>0</td>\n",
              "      <td>Normal</td>\n",
              "    </tr>\n",
              "    <tr>\n",
              "      <th>...</th>\n",
              "      <td>...</td>\n",
              "      <td>...</td>\n",
              "      <td>...</td>\n",
              "      <td>...</td>\n",
              "      <td>...</td>\n",
              "      <td>...</td>\n",
              "      <td>...</td>\n",
              "    </tr>\n",
              "    <tr>\n",
              "      <th>795</th>\n",
              "      <td>45</td>\n",
              "      <td>14.7</td>\n",
              "      <td>98.0</td>\n",
              "      <td>0</td>\n",
              "      <td>0</td>\n",
              "      <td>1</td>\n",
              "      <td>Normal</td>\n",
              "    </tr>\n",
              "    <tr>\n",
              "      <th>796</th>\n",
              "      <td>45</td>\n",
              "      <td>19.2</td>\n",
              "      <td>99.2</td>\n",
              "      <td>2</td>\n",
              "      <td>2</td>\n",
              "      <td>1</td>\n",
              "      <td>Normal</td>\n",
              "    </tr>\n",
              "    <tr>\n",
              "      <th>797</th>\n",
              "      <td>38</td>\n",
              "      <td>12.0</td>\n",
              "      <td>93.0</td>\n",
              "      <td>0</td>\n",
              "      <td>0</td>\n",
              "      <td>1</td>\n",
              "      <td>Normal</td>\n",
              "    </tr>\n",
              "    <tr>\n",
              "      <th>798</th>\n",
              "      <td>39</td>\n",
              "      <td>12.9</td>\n",
              "      <td>92.0</td>\n",
              "      <td>0</td>\n",
              "      <td>0</td>\n",
              "      <td>1</td>\n",
              "      <td>Normal</td>\n",
              "    </tr>\n",
              "    <tr>\n",
              "      <th>799</th>\n",
              "      <td>41</td>\n",
              "      <td>15.3</td>\n",
              "      <td>96.0</td>\n",
              "      <td>0</td>\n",
              "      <td>0</td>\n",
              "      <td>1</td>\n",
              "      <td>Normal</td>\n",
              "    </tr>\n",
              "  </tbody>\n",
              "</table>\n",
              "<p>800 rows × 7 columns</p>\n",
              "</div>"
            ],
            "text/plain": [
              "     Usia  Berat  Tinggi  BBU  BBTB  Gender    TB/U\n",
              "0      56   15.0   105.0    0     0       0  Normal\n",
              "1      48   12.5   102.5    0     1       0  Normal\n",
              "2      54   18.0   103.0    0     4       1  Normal\n",
              "3      54   22.7   110.0    2     2       1  Normal\n",
              "4      38   14.7    96.0    0     0       0  Normal\n",
              "..    ...    ...     ...  ...   ...     ...     ...\n",
              "795    45   14.7    98.0    0     0       1  Normal\n",
              "796    45   19.2    99.2    2     2       1  Normal\n",
              "797    38   12.0    93.0    0     0       1  Normal\n",
              "798    39   12.9    92.0    0     0       1  Normal\n",
              "799    41   15.3    96.0    0     0       1  Normal\n",
              "\n",
              "[800 rows x 7 columns]"
            ]
          },
          "execution_count": 612,
          "metadata": {},
          "output_type": "execute_result"
        }
      ],
      "source": [
        "data.head(800)"
      ]
    },
    {
      "cell_type": "code",
      "execution_count": 613,
      "metadata": {},
      "outputs": [],
      "source": [
        "data.to_csv('NewStunting.csv', index=False)"
      ]
    },
    {
      "cell_type": "markdown",
      "metadata": {
        "id": "Uul2BtWxJH-P"
      },
      "source": [
        "### INPUT DATA Usia(Bulan)', 'Gender', 'Berat', 'Tinggi', 'ZS BB/U', 'ZS TB/U', 'ZS BB/TB', 'BB/U', 'BB/TB'"
      ]
    },
    {
      "cell_type": "code",
      "execution_count": 614,
      "metadata": {
        "colab": {
          "base_uri": "https://localhost:8080/"
        },
        "id": "tuyRzvC5__wC",
        "outputId": "6a96d1ad-50c6-4404-cf07-445ff49ce9bb"
      },
      "outputs": [
        {
          "name": "stdout",
          "output_type": "stream",
          "text": [
            "['Normal']\n",
            "Tidak terkena stunting\n"
          ]
        },
        {
          "name": "stderr",
          "output_type": "stream",
          "text": [
            "l:\\anaconda\\lib\\site-packages\\sklearn\\base.py:420: UserWarning: X does not have valid feature names, but StandardScaler was fitted with feature names\n",
            "  warnings.warn(\n"
          ]
        }
      ],
      "source": [
        "input_data = (56, 15.0, 105.0, 0, 0, 0)  # Ensure input format matches the model's expected input\n",
        "input_data_as_numpy_array = np.array(input_data).reshape(1, -1)\n",
        "\n",
        "# Standardize the input data\n",
        "std_data = scaler.transform(input_data_as_numpy_array)\n",
        "\n",
        "# Make prediction\n",
        "prediction = naiveB.predict(std_data)\n",
        "\n",
        "# Decode prediction to original label\n",
        "predicted_label = labelencoder_y.inverse_transform(prediction)  # Decode the predicted label\n",
        "print(predicted_label)\n",
        "\n",
        "# Interpret the prediction\n",
        "if (predicted_label[0] == 'Normal'): \n",
        "    print('Tidak terkena stunting')\n",
        "elif (predicted_label[0] == 'Pendek'): \n",
        "    print('Terkena stunting (Pendek)')\n",
        "else:\n",
        "    print('Terkena stunting (Sangat Pendek)')\n"
      ]
    },
    {
      "cell_type": "code",
      "execution_count": 615,
      "metadata": {
        "colab": {
          "base_uri": "https://localhost:8080/"
        },
        "id": "qEIgW3VLAlx2",
        "outputId": "6cbb713e-2006-455c-aace-154ab8903200"
      },
      "outputs": [
        {
          "name": "stdout",
          "output_type": "stream",
          "text": [
            "['Pendek']\n",
            "Terkena stunting (Pendek)\n"
          ]
        },
        {
          "name": "stderr",
          "output_type": "stream",
          "text": [
            "l:\\anaconda\\lib\\site-packages\\sklearn\\base.py:420: UserWarning: X does not have valid feature names, but StandardScaler was fitted with feature names\n",
            "  warnings.warn(\n"
          ]
        }
      ],
      "source": [
        "input_data = (55, 12.4,\t96.0, 1, 0,\t0)\n",
        "input_data_as_numpy_array = np.array(input_data).reshape(1, -1)\n",
        "\n",
        "# Standardize the input data\n",
        "std_data = scaler.transform(input_data_as_numpy_array)\n",
        "\n",
        "# Make prediction\n",
        "prediction = naiveB.predict(std_data)\n",
        "\n",
        "# Decode prediction to original label\n",
        "predicted_label = labelencoder_y.inverse_transform(prediction)  # Decode the predicted label\n",
        "print(predicted_label)\n",
        "\n",
        "# Interpret the prediction\n",
        "if (predicted_label[0] == 'Normal'): \n",
        "    print('Tidak terkena stunting')\n",
        "elif (predicted_label[0] == 'Pendek'): \n",
        "    print('Terkena stunting (Pendek)')\n",
        "else:\n",
        "    print('Terkena stunting (Sangat Pendek)')\n"
      ]
    },
    {
      "cell_type": "code",
      "execution_count": 616,
      "metadata": {
        "colab": {
          "base_uri": "https://localhost:8080/"
        },
        "id": "0WgxGVShH9f5",
        "outputId": "aa3f52a1-6be2-476b-9068-611e0893e6f0"
      },
      "outputs": [
        {
          "name": "stdout",
          "output_type": "stream",
          "text": [
            "['Sangat Pendek']\n",
            "Terkena stunting (Sangat Pendek)\n"
          ]
        },
        {
          "name": "stderr",
          "output_type": "stream",
          "text": [
            "l:\\anaconda\\lib\\site-packages\\sklearn\\base.py:420: UserWarning: X does not have valid feature names, but StandardScaler was fitted with feature names\n",
            "  warnings.warn(\n"
          ]
        }
      ],
      "source": [
        "input_data = (31, 10.5,\t88.0, 3, 1, 0)\n",
        "input_data_as_numpy_array = np.array(input_data).reshape(1, -1)\n",
        "\n",
        "# Standardize the input data\n",
        "std_data = scaler.transform(input_data_as_numpy_array)\n",
        "\n",
        "# Make prediction\n",
        "prediction = naiveB.predict(std_data)\n",
        "\n",
        "# Decode prediction to original label\n",
        "predicted_label = labelencoder_y.inverse_transform(prediction)  # Decode the predicted label\n",
        "print(predicted_label)\n",
        "\n",
        "# Interpret the prediction\n",
        "if (predicted_label[0] == 'Normal'): \n",
        "    print('Tidak terkena stunting')\n",
        "elif (predicted_label[0] == 'Pendek'): \n",
        "    print('Terkena stunting (Pendek)')\n",
        "else:\n",
        "    print('Terkena stunting (Sangat Pendek)')"
      ]
    },
    {
      "cell_type": "code",
      "execution_count": 617,
      "metadata": {},
      "outputs": [],
      "source": [
        "import pickle"
      ]
    },
    {
      "cell_type": "code",
      "execution_count": 618,
      "metadata": {},
      "outputs": [],
      "source": [
        "filename = 'deployment.sav'\n",
        "pickle.dump(naiveB, open(filename, 'wb'))\n",
        "# Also save the scaler and encoders for future use\n",
        "pickle.dump(scaler, open('scaler.sav', 'wb'))\n",
        "pickle.dump(labelencoder_BBU, open('labelencoder_BBU.sav', 'wb'))\n",
        "pickle.dump(labelencoder_BBTB, open('labelencoder_BBTB.sav', 'wb'))"
      ]
    },
    {
      "cell_type": "code",
      "execution_count": null,
      "metadata": {},
      "outputs": [],
      "source": []
    }
  ],
  "metadata": {
    "colab": {
      "provenance": []
    },
    "kernelspec": {
      "display_name": "base",
      "language": "python",
      "name": "python3"
    },
    "language_info": {
      "codemirror_mode": {
        "name": "ipython",
        "version": 3
      },
      "file_extension": ".py",
      "mimetype": "text/x-python",
      "name": "python",
      "nbconvert_exporter": "python",
      "pygments_lexer": "ipython3",
      "version": "3.10.9"
    }
  },
  "nbformat": 4,
  "nbformat_minor": 0
}
